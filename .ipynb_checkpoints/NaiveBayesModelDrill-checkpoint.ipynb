{
 "cells": [
  {
   "cell_type": "code",
   "execution_count": 5,
   "metadata": {
    "collapsed": true
   },
   "outputs": [],
   "source": [
    "%matplotlib inline\n",
    "import numpy as np\n",
    "import pandas as pd\n",
    "import scipy\n",
    "import sklearn\n",
    "import matplotlib.pyplot as plt\n",
    "import seaborn as sns"
   ]
  },
  {
   "cell_type": "code",
   "execution_count": 6,
   "metadata": {
    "collapsed": true
   },
   "outputs": [],
   "source": [
    "data_path = ('/Users/Beba/Downloads/sentiment labelled sentences/amazon_cells_labelled.txt')\n",
    "amazon_raw = pd.read_csv(data_path, delimiter= '\\t', header=None)\n",
    "amazon_raw.columns = ['sentence', 'score']"
   ]
  },
  {
   "cell_type": "code",
   "execution_count": 7,
   "metadata": {
    "collapsed": true
   },
   "outputs": [],
   "source": [
    "sns.set_style('whitegrid')"
   ]
  },
  {
   "cell_type": "code",
   "execution_count": 8,
   "metadata": {},
   "outputs": [
    {
     "data": {
      "text/html": [
       "<div>\n",
       "<style>\n",
       "    .dataframe thead tr:only-child th {\n",
       "        text-align: right;\n",
       "    }\n",
       "\n",
       "    .dataframe thead th {\n",
       "        text-align: left;\n",
       "    }\n",
       "\n",
       "    .dataframe tbody tr th {\n",
       "        vertical-align: top;\n",
       "    }\n",
       "</style>\n",
       "<table border=\"1\" class=\"dataframe\">\n",
       "  <thead>\n",
       "    <tr style=\"text-align: right;\">\n",
       "      <th></th>\n",
       "      <th>sentence</th>\n",
       "      <th>score</th>\n",
       "    </tr>\n",
       "  </thead>\n",
       "  <tbody>\n",
       "    <tr>\n",
       "      <th>0</th>\n",
       "      <td>So there is no way for me to plug it in here i...</td>\n",
       "      <td>0</td>\n",
       "    </tr>\n",
       "    <tr>\n",
       "      <th>1</th>\n",
       "      <td>Good case, Excellent value.</td>\n",
       "      <td>1</td>\n",
       "    </tr>\n",
       "    <tr>\n",
       "      <th>2</th>\n",
       "      <td>Great for the jawbone.</td>\n",
       "      <td>1</td>\n",
       "    </tr>\n",
       "    <tr>\n",
       "      <th>3</th>\n",
       "      <td>Tied to charger for conversations lasting more...</td>\n",
       "      <td>0</td>\n",
       "    </tr>\n",
       "    <tr>\n",
       "      <th>4</th>\n",
       "      <td>The mic is great.</td>\n",
       "      <td>1</td>\n",
       "    </tr>\n",
       "  </tbody>\n",
       "</table>\n",
       "</div>"
      ],
      "text/plain": [
       "                                            sentence  score\n",
       "0  So there is no way for me to plug it in here i...      0\n",
       "1                        Good case, Excellent value.      1\n",
       "2                             Great for the jawbone.      1\n",
       "3  Tied to charger for conversations lasting more...      0\n",
       "4                                  The mic is great.      1"
      ]
     },
     "execution_count": 8,
     "metadata": {},
     "output_type": "execute_result"
    }
   ],
   "source": [
    "amazon_raw.head()"
   ]
  },
  {
   "cell_type": "code",
   "execution_count": 10,
   "metadata": {},
   "outputs": [
    {
     "data": {
      "text/plain": [
       "0      so there is no way for me to plug it in here i...\n",
       "1                              good case excellent value\n",
       "2                                  great for the jawbone\n",
       "3      tied to charger for conversations lasting more...\n",
       "4                                       the mic is great\n",
       "5      i have to jiggle the plug to get it to line up...\n",
       "6      if you have several dozen or several hundred c...\n",
       "7                if you are razr owneryou must have this\n",
       "8                      needless to say i wasted my money\n",
       "9                         what a waste of money and time\n",
       "10                        and the sound quality is great\n",
       "11     he was very impressed when going from the orig...\n",
       "12     if the two were seperated by a mere 5 ft i sta...\n",
       "13                              very good quality though\n",
       "14     the design is very odd as the ear clip is not ...\n",
       "15     highly recommend for any one who has a blue to...\n",
       "16                    i advise everyone do not be fooled\n",
       "17                                        so far so good\n",
       "18                                           works great\n",
       "19     it clicks into place in a way that makes you w...\n",
       "20     i went on motorolas website and followed all d...\n",
       "21     i bought this to use with my kindle fire and a...\n",
       "22               the commercials are the most misleading\n",
       "23     i have yet to run this new battery below two b...\n",
       "24     i bought it for my mother and she had a proble...\n",
       "25                    great pocket pc  phone combination\n",
       "26     ive owned this phone for 7 months now and can ...\n",
       "27     i didnt think that the instructions provided w...\n",
       "28     people couldnt hear me talk and i had to pull ...\n",
       "29                                    doesnt hold charge\n",
       "                             ...                        \n",
       "970    i plugged it in only to find out not a darn th...\n",
       "971                                    excellent product\n",
       "972                           earbud piece breaks easily\n",
       "973                                        lousy product\n",
       "974    this phone tries very hard to do everything bu...\n",
       "975    it is the best charger i have seen on the mark...\n",
       "976                                       sweetest phone\n",
       "977                    oh the charger seems to work fine\n",
       "978    it fits so securely that the ear hook does not...\n",
       "979                                    not enough volume\n",
       "980                      echo problemvery unsatisfactory\n",
       "981    you could only take 2 videos at a time and the...\n",
       "982                                dont waste your money\n",
       "983    i am going to have to be the first to negative...\n",
       "984     adapter does not provide enough charging current\n",
       "985    there was so much hype over this phone that i ...\n",
       "986    you also cannot take pictures with it in the c...\n",
       "987                               phone falls out easily\n",
       "988     it didnt work people can not hear me when i talk\n",
       "989    the text messaging feature is really tricky to...\n",
       "990    im really disappointed all i have now is a cha...\n",
       "991                                   painful on the ear\n",
       "992                      lasted one day and then blew up\n",
       "993                                         disappointed\n",
       "994                                 kind of flops around\n",
       "995    the screen does get smudged easily because it ...\n",
       "996    what a piece of junk i lose more calls on this...\n",
       "997                          item does not match picture\n",
       "998    the only thing that disappoint me is the infra...\n",
       "999    you can not answer calls with the unit never w...\n",
       "Name: sentence, Length: 1000, dtype: object"
      ]
     },
     "execution_count": 10,
     "metadata": {},
     "output_type": "execute_result"
    }
   ],
   "source": [
    "import re\n",
    "import string\n",
    "rem = string.punctuation\n",
    "pattern = r\"[{}]\".format(rem)\n",
    "\n",
    "amazon_raw['sentence'].str.replace(pattern, '')"
   ]
  },
  {
   "cell_type": "code",
   "execution_count": 11,
   "metadata": {
    "collapsed": true
   },
   "outputs": [],
   "source": [
    "positive_comment = amazon_raw[amazon_raw['score'] == 1]\n",
    "negative_comment = amazon_raw[amazon_raw['score'] == 0]\n"
   ]
  },
  {
   "cell_type": "code",
   "execution_count": 14,
   "metadata": {},
   "outputs": [
    {
     "data": {
      "text/plain": [
       "<matplotlib.axes._subplots.AxesSubplot at 0x10d1ef588>"
      ]
     },
     "execution_count": 14,
     "metadata": {},
     "output_type": "execute_result"
    },
    {
     "data": {
      "image/png": "[encoded data removed]",
      "text/plain": [
       "<matplotlib.figure.Figure at 0x10d1e2eb8>"
      ]
     },
     "metadata": {},
     "output_type": "display_data"
    }
   ],
   "source": [
    "positive_keywords = ['very',\n",
    "                     'great',\n",
    "                     'good',\n",
    "                     'works',\n",
    "                     'excellent',\n",
    "                     'nice',\n",
    "                     'best',\n",
    "                     'recommend',\n",
    "                     'love',\n",
    "                     'has']\n",
    "\n",
    "for key in positive_keywords:\n",
    "    amazon_raw[str(key)] = amazon_raw.sentence.str.contains(\n",
    "        ' ' + str(key) + ' ',\n",
    "        case=False\n",
    "    )\n",
    "\n",
    "sns.heatmap(amazon_raw.corr())"
   ]
  },
  {
   "cell_type": "code",
   "execution_count": 16,
   "metadata": {},
   "outputs": [],
   "source": [
    "from sklearn.model_selection import train_test_split\n",
    "\n",
    "data = (amazon_raw[positive_keywords])\n",
    "target = amazon_raw['score']\n",
    "\n",
    "X_train, X_test, y_train, y_test = train_test_split(data, target, test_size=.2)\n"
   ]
  },
  {
   "cell_type": "code",
   "execution_count": 17,
   "metadata": {},
   "outputs": [
    {
     "name": "stdout",
     "output_type": "stream",
     "text": [
      "Number of mislabeled points out of a total 1000 points : 66\n"
     ]
    }
   ],
   "source": [
    "from sklearn.naive_bayes import BernoulliNB\n",
    "\n",
    "bnb = BernoulliNB()\n",
    "\n",
    "bnb.fit(X_train, y_train)\n",
    "\n",
    "y_pred = bnb.predict(X_test)\n",
    "\n",
    "print(\"Number of mislabeled points out of a total {} points : {}\".format(\n",
    "    data.shape[0],\n",
    "    (y_test != y_pred).sum()\n",
    "))"
   ]
  },
  {
   "cell_type": "code",
   "execution_count": 20,
   "metadata": {},
   "outputs": [
    {
     "name": "stdout",
     "output_type": "stream",
     "text": [
      "Number of mislabeled points out of a total 1000 points : 66\n"
     ]
    }
   ],
   "source": [
    "from sklearn.naive_bayes import MultinomialNB\n",
    "\n",
    "mnb = MultinomialNB()\n",
    "\n",
    "bnb.fit(X_train, y_train)\n",
    "\n",
    "y_pred = bnb.predict(X_test)\n",
    "\n",
    "print(\"Number of mislabeled points out of a total {} points : {}\".format(\n",
    "    data.shape[0],\n",
    "    (y_test != y_pred).sum()\n",
    "))"
   ]
  },
  {
   "cell_type": "code",
   "execution_count": 19,
   "metadata": {},
   "outputs": [
    {
     "name": "stdout",
     "output_type": "stream",
     "text": [
      "Number of mislabeled points out of a total 1000 points : 66\n"
     ]
    }
   ],
   "source": [
    "bnb = BernoulliNB(alpha=.5)\n",
    "\n",
    "bnb.fit(X_train, y_train)\n",
    "\n",
    "y_pred = bnb.predict(X_test)\n",
    "\n",
    "print(\"Number of mislabeled points out of a total {} points : {}\".format(\n",
    "    data.shape[0],\n",
    "    (y_test != y_pred).sum()\n",
    "))"
   ]
  },
  {
   "cell_type": "code",
   "execution_count": 21,
   "metadata": {},
   "outputs": [
    {
     "name": "stdout",
     "output_type": "stream",
     "text": [
      "Number of mislabeled points out of a total 1000 points : 66\n"
     ]
    }
   ],
   "source": [
    "bnb = BernoulliNB(alpha=.3)\n",
    "\n",
    "bnb.fit(X_train, y_train)\n",
    "\n",
    "y_pred = bnb.predict(X_test)\n",
    "\n",
    "print(\"Number of mislabeled points out of a total {} points : {}\".format(\n",
    "    data.shape[0],\n",
    "    (y_test != y_pred).sum()\n",
    "))"
   ]
  },
  {
   "cell_type": "code",
   "execution_count": 22,
   "metadata": {},
   "outputs": [
    {
     "name": "stdout",
     "output_type": "stream",
     "text": [
      "Number of mislabeled points out of a total 1000 points : 66\n"
     ]
    }
   ],
   "source": [
    "mnb = MultinomialNB(alpha=.5)\n",
    "\n",
    "bnb.fit(X_train, y_train)\n",
    "\n",
    "y_pred = bnb.predict(X_test)\n",
    "\n",
    "print(\"Number of mislabeled points out of a total {} points : {}\".format(\n",
    "    data.shape[0],\n",
    "    (y_test != y_pred).sum()\n",
    "))"
   ]
  },
  {
   "cell_type": "code",
   "execution_count": 23,
   "metadata": {},
   "outputs": [
    {
     "name": "stdout",
     "output_type": "stream",
     "text": [
      "Number of mislabeled points out of a total 1000 points : 66\n"
     ]
    }
   ],
   "source": [
    "mnb = MultinomialNB(alpha=.3)\n",
    "\n",
    "bnb.fit(X_train, y_train)\n",
    "\n",
    "y_pred = bnb.predict(X_test)\n",
    "\n",
    "print(\"Number of mislabeled points out of a total {} points : {}\".format(\n",
    "    data.shape[0],\n",
    "    (y_test != y_pred).sum()\n",
    "))"
   ]
  },
  {
   "cell_type": "code",
   "execution_count": 24,
   "metadata": {},
   "outputs": [
    {
     "data": {
      "text/plain": [
       "155"
      ]
     },
     "execution_count": 24,
     "metadata": {},
     "output_type": "execute_result"
    }
   ],
   "source": [
    "(y_pred == False).sum()"
   ]
  },
  {
   "cell_type": "code",
   "execution_count": null,
   "metadata": {
    "collapsed": true
   },
   "outputs": [],
   "source": []
  }
 ],
 "metadata": {
  "kernelspec": {
   "display_name": "Python 3",
   "language": "python",
   "name": "python3"
  },
  "language_info": {
   "codemirror_mode": {
    "name": "ipython",
    "version": 3
   },
   "file_extension": ".py",
   "mimetype": "text/x-python",
   "name": "python",
   "nbconvert_exporter": "python",
   "pygments_lexer": "ipython3",
   "version": "3.6.1"
  }
 },
 "nbformat": 4,
 "nbformat_minor": 2
}
